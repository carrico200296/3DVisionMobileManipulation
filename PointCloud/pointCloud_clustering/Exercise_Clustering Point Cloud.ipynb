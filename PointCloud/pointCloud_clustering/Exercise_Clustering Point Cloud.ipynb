{
 "cells": [
  {
   "cell_type": "markdown",
   "metadata": {},
   "source": [
    "# Exercise 2 - Clustering Point Cloud\n",
    "Today we are going to continue work on pointclouds.\n",
    "We will work on trying to cluster pointclouds to be able to segment them.\n",
    "    \n",
    "If you do not have sklearn installed make sure to **pip install scikit-learn**\n",
    "\n",
    "TUTORIALS AND INFO: https://scikit-learn.org/stable/user_guide.html"
   ]
  },
  {
   "cell_type": "code",
   "execution_count": 1,
   "metadata": {},
   "outputs": [],
   "source": [
    "import numpy as np\n",
    "import open3d as o3d\n",
    "import copy\n",
    "import matplotlib.pyplot as plt\n",
    "from sklearn import metrics\n",
    "from sklearn.cluster import KMeans, k_means"
   ]
  },
  {
   "cell_type": "code",
   "execution_count": 2,
   "metadata": {},
   "outputs": [],
   "source": [
    "def draw_labels_on_model(pcl,labels):\n",
    "    cmap = plt.get_cmap(\"tab20\")\n",
    "    pcl_temp = copy.deepcopy(pcl)\n",
    "    max_label = labels.max()\n",
    "    print(\"%s has %d clusters\" % (pcl_name, max_label + 1))\n",
    "    colors = cmap(labels / (max_label if max_label > 0 else 1))\n",
    "    colors[labels < 0] = 0\n",
    "    pcl_temp.colors = o3d.utility.Vector3dVector(colors[:, :3])\n",
    "    o3d.visualization.draw_geometries([pcl_temp])"
   ]
  },
  {
   "cell_type": "markdown",
   "metadata": {},
   "source": [
    "## On a cube.\n",
    "We create a point cloud using open3d.\n",
    "Our goal is to segment each side using k means."
   ]
  },
  {
   "cell_type": "code",
   "execution_count": 5,
   "metadata": {},
   "outputs": [
    {
     "name": "stdout",
     "output_type": "stream",
     "text": [
      "Cube has 100000 points\n"
     ]
    }
   ],
   "source": [
    "pcl_name = 'Cube'\n",
    "density = 1e5 # density of sample points to create\n",
    "pcl = o3d.geometry.TriangleMesh.create_box().sample_points_uniformly(int(density))\n",
    "eps = 0.4\n",
    "print(\"%s has %d points\" % (pcl_name, np.asarray(pcl.points).shape[0]))\n",
    "o3d.visualization.draw_geometries([pcl])"
   ]
  },
  {
   "cell_type": "markdown",
   "metadata": {},
   "source": [
    "## > K-MEANS\n",
    "https://scikit-learn.org/stable/modules/generated/sklearn.cluster.KMeans.html#sklearn.cluster.KMeans\n",
    "\n",
    "If we just use Kmeans out of the box with the pointcloud we will get the following\n",
    "\n",
    "\n",
    " -- Note--- that pressing plus and minus in the viewer will increase/decrease the size of the points in the viewer"
   ]
  },
  {
   "cell_type": "code",
   "execution_count": 6,
   "metadata": {},
   "outputs": [
    {
     "name": "stdout",
     "output_type": "stream",
     "text": [
      "Cube has 6 clusters\n"
     ]
    }
   ],
   "source": [
    "km = KMeans(n_clusters=6, init='k-means++',n_init=10, max_iter=300, tol=1e-04, random_state=0)\n",
    "# init: {‘k-means++’, 'random'}-> 'k-means++': selects initial cluster centers for k-mean clustering in a smart way to speed up convergence\n",
    "# n_init: int default=10. Number of time the k-means algorithm will be run with different centroid seeds. The final results will be the best output of n_init consecutive runs in terms of inertia.\n",
    "# max_iter: int, default=300. Maximum number of iterations of the k-means algorithm for a single run.\n",
    "# tol: float, default=1e-4. Relative tolerance with regards to inertia to declare convergence.\n",
    "\n",
    "## Using the XYZ COORDINATES\n",
    "# Get the points from the pointcloud as np.asarray()\n",
    "xyz = np.asarray(pcl.points)\n",
    "# Compute cluster centers and predict cluster index for each sample.\n",
    "# fit_predict(self, X, y=None, sample_weight=None)\n",
    "labels = km.fit_predict(xyz)\n",
    "draw_labels_on_model(pcl, labels)"
   ]
  },
  {
   "cell_type": "markdown",
   "metadata": {},
   "source": [
    "QUESTION 23 EXAM"
   ]
  },
  {
   "cell_type": "code",
   "execution_count": null,
   "metadata": {},
   "outputs": [],
   "source": [
    "km = KMeans(n_clusters=6, init='k-means++',n_init=10, max_iter=300, tol=1e-04, random_state=0)\n",
    "# init: {‘k-means++’, 'random'}-> 'k-means++': selects initial cluster centers for k-mean clustering in a smart way to speed up convergence\n",
    "# n_init: int default=10. Number of time the k-means algorithm will be run with different centroid seeds. The final results will be the best output of n_init consecutive runs in terms of inertia.\n",
    "# max_iter: int, default=300. Maximum number of iterations of the k-means algorithm for a single run.\n",
    "# tol: float, default=1e-4. Relative tolerance with regards to inertia to declare convergence.\n",
    "\n",
    "## Using the XYZ COORDINATES\n",
    "# Get the points from the pointcloud as np.asarray()\n",
    "xyz = np.asarray(pcl.points)\n",
    "# Compute cluster centers and predict cluster index for each sample.\n",
    "# fit_predict(self, X, y=None, sample_weight=None)\n",
    "labels = km.fit_predict(xyz)\n",
    "draw_labels_on_model(pcl, labels)"
   ]
  },
  {
   "cell_type": "markdown",
   "metadata": {},
   "source": [
    "As we can see we get 6 clusters but they do not span a side (no abarcan un lado).\n",
    "\n",
    "We try again but this time we instead use the normals of the cube.\n",
    "The normals for each plane should be parallel with the other normals from said plane."
   ]
  },
  {
   "cell_type": "code",
   "execution_count": 7,
   "metadata": {},
   "outputs": [
    {
     "name": "stdout",
     "output_type": "stream",
     "text": [
      "Estimate normal with search radius 0.100.\n",
      "Cube has 6 clusters\n"
     ]
    }
   ],
   "source": [
    "###\n",
    "# Code goes here\n",
    "###\n",
    "\n",
    "## Using the NORMALS\n",
    "voxel_size = 0.05\n",
    "radius_normal = voxel_size * 2\n",
    "print(\"Estimate normal with search radius %.3f.\" % radius_normal)\n",
    "pcl.estimate_normals(o3d.geometry.KDTreeSearchParamHybrid(radius=radius_normal, max_nn=30))\n",
    "normals = np.asarray(pcl.normals)\n",
    "labels = km.fit_predict(normals)\n",
    "draw_labels_on_model(pcl, labels)\n"
   ]
  },
  {
   "cell_type": "markdown",
   "metadata": {},
   "source": [
    "This still does not work, the opposite side will also have normals that point the other way which will parallel.\n",
    "\n",
    "So to combat this we can attempt to use the xyz coordinates and the normals."
   ]
  },
  {
   "cell_type": "markdown",
   "metadata": {},
   "source": [
    "## Exercises\n",
    "\n",
    "### A) K means continued.\n",
    "\n",
    "Combine the point cloud points (xyz) with the normals and do k-means.\n",
    "\n",
    "```xyz_n = np.concatenate((xyz, normals), axis=1)```\n",
    "\n",
    "Do you get better clusters?\n",
    "Why would adding the normals help?"
   ]
  },
  {
   "cell_type": "code",
   "execution_count": 8,
   "metadata": {},
   "outputs": [
    {
     "name": "stdout",
     "output_type": "stream",
     "text": [
      "EXERCISE A\n",
      "Cube has 6 clusters\n"
     ]
    }
   ],
   "source": [
    "###\n",
    "# Code goes here\n",
    "###\n",
    "\n",
    "print(\"EXERCISE A\")\n",
    "## Concatenating the XYZ COORDINATES and the NORMALS => xyz_n = xyz + normals\n",
    "xyz_n = np.concatenate((xyz, normals), axis=1)\n",
    "labels = km.fit_predict(xyz_n)\n",
    "draw_labels_on_model(pcl, labels)"
   ]
  },
  {
   "cell_type": "markdown",
   "metadata": {},
   "source": [
    "### B) \n",
    "Try weighting either the points or normals by scaling them by some factor, can segment each of the faces of the cube?"
   ]
  },
  {
   "cell_type": "code",
   "execution_count": 9,
   "metadata": {},
   "outputs": [
    {
     "name": "stdout",
     "output_type": "stream",
     "text": [
      "EXERCISE B\n",
      "Cube has 6 clusters\n"
     ]
    }
   ],
   "source": [
    "print(\"EXERCISE B\")\n",
    "## Concatenating the XYZ COORDINATES and the NORMALS + scaling them by some factor\n",
    "xyz_n = np.concatenate((xyz, normals*1.5), axis=1)\n",
    "labels = km.fit_predict(xyz_n)\n",
    "draw_labels_on_model(pcl, labels)"
   ]
  },
  {
   "cell_type": "markdown",
   "metadata": {},
   "source": [
    "### C)\n",
    "Try to cluster all the different shapes using k means.\n",
    "```{python}\n",
    "d = 4\n",
    "mesh = o3d.geometry.TriangleMesh.create_tetrahedron().translate((-d, 0, 0))\n",
    "mesh += o3d.geometry.TriangleMesh.create_octahedron().translate((0, 0, 0))\n",
    "mesh += o3d.geometry.TriangleMesh.create_icosahedron().translate((d, 0, 0))\n",
    "mesh += o3d.geometry.TriangleMesh.create_torus().translate((-d, -d, 0))\n",
    "mesh += o3d.geometry.TriangleMesh.create_moebius(twists=1).translate(\n",
    "    (0, -d, 0))\n",
    "mesh += o3d.geometry.TriangleMesh.create_moebius(twists=2).translate(\n",
    "    (d, -d, 0))\n",
    "mesh.sample_points_uniformly(int(1e5)), 0.5\n",
    "\n",
    "^^^this last ,0.5 give errors runing the script^^^\n",
    "```\n",
    "\n",
    "## On different shapes"
   ]
  },
  {
   "cell_type": "code",
   "execution_count": 16,
   "metadata": {},
   "outputs": [
    {
     "name": "stdout",
     "output_type": "stream",
     "text": [
      "Cube has 6 clusters\n"
     ]
    }
   ],
   "source": [
    "d = 4\n",
    "mesh = o3d.geometry.TriangleMesh.create_tetrahedron().translate((-d, 0, 0))\n",
    "mesh += o3d.geometry.TriangleMesh.create_octahedron().translate((0, 0, 0))\n",
    "mesh += o3d.geometry.TriangleMesh.create_icosahedron().translate((d, 0, 0))\n",
    "mesh += o3d.geometry.TriangleMesh.create_torus().translate((-d, -d, 0))\n",
    "mesh += o3d.geometry.TriangleMesh.create_moebius(twists=1).translate((0, -d, 0))\n",
    "mesh += o3d.geometry.TriangleMesh.create_moebius(twists=2).translate((d, -d, 0))\n",
    "mesh = mesh.sample_points_uniformly(int(1e5))\n",
    "#o3d.visualization.draw_geometries([mesh])\n",
    "\n",
    "km = KMeans(n_clusters=6, init='k-means++',n_init=10, max_iter=300, tol=1e-04, random_state=0)\n",
    "xyz = np.asarray(mesh.points)\n",
    "labels = km.fit_predict(xyz)\n",
    "draw_labels_on_model(mesh, labels)"
   ]
  },
  {
   "cell_type": "markdown",
   "metadata": {},
   "source": [
    "### D)\n",
    "Now try with the pointcloud in \"pointclouds/fragment.ply\"\n",
    "Are you able to cluster the pointcloud?\n",
    "\n",
    "What features here would it make sense to cluster?\n",
    "- fpfh features?\n",
    "- xyz\n",
    "- normals \n",
    "- colors\n",
    "\n",
    "Are you able to get clusters that make sense? Why?\n",
    "\n",
    "## From a point cloud geometry file (.ply - Polygon File Format)"
   ]
  },
  {
   "cell_type": "code",
   "execution_count": 11,
   "metadata": {},
   "outputs": [
    {
     "name": "stdout",
     "output_type": "stream",
     "text": [
      "Reading point cloud\n",
      "Cube has 4 clusters\n"
     ]
    }
   ],
   "source": [
    "print(\"Reading point cloud\")\n",
    "pcl = o3d.io.read_point_cloud(\"TestData/fragment.ply\")\n",
    "o3d.visualization.draw_geometries([pcl])\n",
    "\n",
    "km = KMeans(n_clusters=4, init='k-means++',n_init=10, max_iter=300, tol=1e-04, random_state=0)\n",
    "\n",
    "voxel_size = 0.05\n",
    "radius_normal = voxel_size * 2\n",
    "pcl.estimate_normals(o3d.geometry.KDTreeSearchParamHybrid(radius=radius_normal, max_nn=30))\n",
    "\n",
    "normals = np.asarray(pcl.normals)\n",
    "xyz = np.asarray(pcl.points)\n",
    "\n",
    "xyz_n = np.concatenate((xyz, normals*2), axis=1)\n",
    "labels = km.fit_predict(xyz_n)\n",
    "draw_labels_on_model(pcl, labels)"
   ]
  },
  {
   "cell_type": "markdown",
   "metadata": {},
   "source": [
    "# > DBSCAN Algorithm\n",
    "\n",
    "### E)\n",
    "Use the built in cluster_dbscan algorithm.\n",
    "Tweak the parameters and see what you get out.\n",
    "\n",
    "Attempt on the combined figures and on \"fragment.ply\"\n",
    "```{Python}\n",
    "#eps (float) – Density parameter that is used to find neighbouring points.\n",
    "eps = 0.02\n",
    "\n",
    "#min_points (int) – Minimum number of points to form a cluster.\n",
    "min_points = 10\n",
    "\n",
    "labels = np.array(pcl.cluster_dbscan(eps=eps, min_points=min_points, print_progress=True))\n",
    "```\n"
   ]
  },
  {
   "cell_type": "code",
   "execution_count": 17,
   "metadata": {},
   "outputs": [
    {
     "name": "stdout",
     "output_type": "stream",
     "text": [
      "Creating point cloud 'mesh'\n",
      "Cube has 6 clusters\n"
     ]
    }
   ],
   "source": [
    "print(\"Creating point cloud 'mesh'\")\n",
    "d = 4\n",
    "mesh = o3d.geometry.TriangleMesh.create_tetrahedron().translate((-d, 0, 0))\n",
    "mesh += o3d.geometry.TriangleMesh.create_octahedron().translate((0, 0, 0))\n",
    "mesh += o3d.geometry.TriangleMesh.create_icosahedron().translate((d, 0, 0))\n",
    "mesh += o3d.geometry.TriangleMesh.create_torus().translate((-d, -d, 0))\n",
    "mesh += o3d.geometry.TriangleMesh.create_moebius(twists=1).translate((0, -d, 0))\n",
    "mesh += o3d.geometry.TriangleMesh.create_moebius(twists=2).translate((d, -d, 0))\n",
    "mesh = mesh.sample_points_uniformly(int(1e5))\n",
    "\n",
    "#eps (float) – Density parameter that is used to find neighbouring points.\n",
    "eps = 0.1\n",
    "#min_points (int) – Minimum number of points to form a cluster.\n",
    "min_points = 5\n",
    "\n",
    "labels = np.array(mesh.cluster_dbscan(eps=eps, min_points=min_points, print_progress=True))\n",
    "draw_labels_on_model(mesh, labels)"
   ]
  },
  {
   "cell_type": "code",
   "execution_count": 18,
   "metadata": {},
   "outputs": [
    {
     "name": "stdout",
     "output_type": "stream",
     "text": [
      "Reading point cloud 'fragments.ply'\n",
      "Cube has 20 clusters\n"
     ]
    }
   ],
   "source": [
    "print(\"Reading point cloud 'fragments.ply'\")\n",
    "pcl = o3d.io.read_point_cloud(\"TestData/fragment.ply\")\n",
    "#eps (float) – Density parameter that is used to find neighbouring points.\n",
    "eps = 0.02\n",
    "#min_points (int) – Minimum number of points to form a cluster.\n",
    "min_points = 3\n",
    "\n",
    "labels = np.array(pcl.cluster_dbscan(eps=eps, min_points=min_points, print_progress=True))\n",
    "draw_labels_on_model(pcl, labels)"
   ]
  },
  {
   "cell_type": "markdown",
   "metadata": {},
   "source": [
    "### > EXAMPLE WITH MUFD Components  "
   ]
  },
  {
   "cell_type": "code",
   "execution_count": null,
   "metadata": {},
   "outputs": [],
   "source": [
    "print(\"Creating point cloud 'mufd_scene'\")\n",
    "d = 4\n",
    "mufd_scene = o3d.io.read_point_cloud(\"fragment.ply\")\n",
    "mesh = o3d.geometry.TriangleMesh.create_tetrahedron().translate((-d, 0, 0))\n",
    "mesh += o3d.geometry.TriangleMesh.create_octahedron().translate((0, 0, 0))\n",
    "mesh += o3d.geometry.TriangleMesh.create_icosahedron().translate((d, 0, 0))\n",
    "mesh += o3d.geometry.TriangleMesh.create_torus().translate((-d, -d, 0))\n",
    "mesh += o3d.geometry.TriangleMesh.create_moebius(twists=1).translate((0, -d, 0))\n",
    "mesh += o3d.geometry.TriangleMesh.create_moebius(twists=2).translate((d, -d, 0))\n",
    "mesh = mesh.sample_points_uniformly(int(1e5))\n",
    "o3d.visualization.draw_geometries([pcl])\n",
    "\n",
    "#eps (float) – Density parameter that is used to find neighbouring points.\n",
    "eps = 0.1\n",
    "#min_points (int) – Minimum number of points to form a cluster.\n",
    "min_points = 5\n",
    "\n",
    "labels = np.array(mesh.cluster_dbscan(eps=eps, min_points=min_points, print_progress=True))\n",
    "draw_labels_on_model(mesh, labels)"
   ]
  }
 ],
 "metadata": {
  "kernelspec": {
   "display_name": "Python 3",
   "language": "python",
   "name": "python3"
  },
  "language_info": {
   "codemirror_mode": {
    "name": "ipython",
    "version": 3
   },
   "file_extension": ".py",
   "mimetype": "text/x-python",
   "name": "python",
   "nbconvert_exporter": "python",
   "pygments_lexer": "ipython3",
   "version": "3.7.4"
  },
  "toc": {
   "base_numbering": 1,
   "nav_menu": {},
   "number_sections": true,
   "sideBar": true,
   "skip_h1_title": false,
   "title_cell": "Table of Contents",
   "title_sidebar": "Contents",
   "toc_cell": false,
   "toc_position": {},
   "toc_section_display": true,
   "toc_window_display": false
  },
  "varInspector": {
   "cols": {
    "lenName": 16,
    "lenType": 16,
    "lenVar": 40
   },
   "kernels_config": {
    "python": {
     "delete_cmd_postfix": "",
     "delete_cmd_prefix": "del ",
     "library": "var_list.py",
     "varRefreshCmd": "print(var_dic_list())"
    },
    "r": {
     "delete_cmd_postfix": ") ",
     "delete_cmd_prefix": "rm(",
     "library": "var_list.r",
     "varRefreshCmd": "cat(var_dic_list()) "
    }
   },
   "types_to_exclude": [
    "module",
    "function",
    "builtin_function_or_method",
    "instance",
    "_Feature"
   ],
   "window_display": false
  }
 },
 "nbformat": 4,
 "nbformat_minor": 4
}
